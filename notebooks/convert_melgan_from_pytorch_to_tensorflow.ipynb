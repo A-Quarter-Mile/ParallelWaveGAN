{
 "cells": [
  {
   "cell_type": "markdown",
   "metadata": {},
   "source": [
    "# Convert MelGAN generator from pytorch to tensorflow\n",
    "\n",
    "This notebook proivdies the procedure of conversion of MelGAN generator from pytorch to tensorflow.  \n",
    "Tensorflow version can accelerate the inference speed on both CPU and GPU."
   ]
  },
  {
   "cell_type": "code",
   "execution_count": 1,
   "metadata": {},
   "outputs": [],
   "source": [
    "import os\n",
    "import yaml\n",
    "\n",
    "import numpy as np\n",
    "import torch\n",
    "import tensorflow as tf\n",
    "\n",
    "# this is needed\n",
    "tf.compat.v1.disable_eager_execution()\n",
    "\n",
    "from parallel_wavegan.models import MelGANGenerator\n",
    "from parallel_wavegan.models.tf_models import TFMelGANGenerator\n",
    "\n",
    "# disable cuda for this demonstration\n",
    "os.environ[\"CUDA_VISIBLE_DEVICES\"]=\"\""
   ]
  },
  {
   "cell_type": "markdown",
   "metadata": {},
   "source": [
    "## Define Tensorflow and Pytorch models"
   ]
  },
  {
   "cell_type": "code",
   "execution_count": 2,
   "metadata": {},
   "outputs": [],
   "source": [
    "# load vocoder config \n",
    "vocoder_conf = '../egs/ljspeech/voc1/conf/melgan.v1.long.yaml'\n",
    "with open(vocoder_conf) as f:\n",
    "    config = yaml.load(f, Loader=yaml.Loader)"
   ]
  },
  {
   "cell_type": "code",
   "execution_count": 3,
   "metadata": {},
   "outputs": [
    {
     "name": "stdout",
     "output_type": "stream",
     "text": [
      "WARNING:tensorflow:From /work5/t_hayashi/work/ParallelWaveGAN-debug/tools/venv/lib/python3.6/site-packages/tensorflow_core/python/ops/resource_variable_ops.py:1786: calling BaseResourceVariable.__init__ (from tensorflow.python.ops.resource_variable_ops) with constraint is deprecated and will be removed in a future version.\n",
      "Instructions for updating:\n",
      "If using Keras pass *_constraint arguments to layers.\n",
      "Model: \"model\"\n",
      "_________________________________________________________________\n",
      "Layer (type)                 Output Shape              Param #   \n",
      "=================================================================\n",
      "input_1 (InputLayer)         [(None, None, 80)]        0         \n",
      "_________________________________________________________________\n",
      "tf_mel_gan_generator (TFMelG (None, None, 1)           4260257   \n",
      "=================================================================\n",
      "Total params: 4,260,257\n",
      "Trainable params: 4,260,257\n",
      "Non-trainable params: 0\n",
      "_________________________________________________________________\n"
     ]
    }
   ],
   "source": [
    "# define Tensorflow MelGAN generator\n",
    "inputs = tf.keras.Input(batch_shape=[None, None, 80], dtype=tf.float32)\n",
    "audio = TFMelGANGenerator(**config[\"generator_params\"])(inputs)\n",
    "tf_melgan = tf.keras.models.Model(inputs, audio)\n",
    "tf_melgan.summary()"
   ]
  },
  {
   "cell_type": "code",
   "execution_count": 4,
   "metadata": {},
   "outputs": [
    {
     "data": {
      "text/plain": [
       "MelGANGenerator(\n",
       "  (melgan): Sequential(\n",
       "    (0): ReflectionPad1d((3, 3))\n",
       "    (1): Conv1d(80, 512, kernel_size=(7,), stride=(1,))\n",
       "    (2): LeakyReLU(negative_slope=0.2)\n",
       "    (3): ConvTranspose1d(512, 256, kernel_size=(16,), stride=(8,), padding=(4,))\n",
       "    (4): ResidualStack(\n",
       "      (stack): Sequential(\n",
       "        (0): LeakyReLU(negative_slope=0.2)\n",
       "        (1): ReflectionPad1d((1, 1))\n",
       "        (2): Conv1d(256, 256, kernel_size=(3,), stride=(1,))\n",
       "        (3): LeakyReLU(negative_slope=0.2)\n",
       "        (4): Conv1d(256, 256, kernel_size=(1,), stride=(1,))\n",
       "      )\n",
       "      (skip_layer): Conv1d(256, 256, kernel_size=(1,), stride=(1,))\n",
       "    )\n",
       "    (5): ResidualStack(\n",
       "      (stack): Sequential(\n",
       "        (0): LeakyReLU(negative_slope=0.2)\n",
       "        (1): ReflectionPad1d((3, 3))\n",
       "        (2): Conv1d(256, 256, kernel_size=(3,), stride=(1,), dilation=(3,))\n",
       "        (3): LeakyReLU(negative_slope=0.2)\n",
       "        (4): Conv1d(256, 256, kernel_size=(1,), stride=(1,))\n",
       "      )\n",
       "      (skip_layer): Conv1d(256, 256, kernel_size=(1,), stride=(1,))\n",
       "    )\n",
       "    (6): ResidualStack(\n",
       "      (stack): Sequential(\n",
       "        (0): LeakyReLU(negative_slope=0.2)\n",
       "        (1): ReflectionPad1d((9, 9))\n",
       "        (2): Conv1d(256, 256, kernel_size=(3,), stride=(1,), dilation=(9,))\n",
       "        (3): LeakyReLU(negative_slope=0.2)\n",
       "        (4): Conv1d(256, 256, kernel_size=(1,), stride=(1,))\n",
       "      )\n",
       "      (skip_layer): Conv1d(256, 256, kernel_size=(1,), stride=(1,))\n",
       "    )\n",
       "    (7): LeakyReLU(negative_slope=0.2)\n",
       "    (8): ConvTranspose1d(256, 128, kernel_size=(16,), stride=(8,), padding=(4,))\n",
       "    (9): ResidualStack(\n",
       "      (stack): Sequential(\n",
       "        (0): LeakyReLU(negative_slope=0.2)\n",
       "        (1): ReflectionPad1d((1, 1))\n",
       "        (2): Conv1d(128, 128, kernel_size=(3,), stride=(1,))\n",
       "        (3): LeakyReLU(negative_slope=0.2)\n",
       "        (4): Conv1d(128, 128, kernel_size=(1,), stride=(1,))\n",
       "      )\n",
       "      (skip_layer): Conv1d(128, 128, kernel_size=(1,), stride=(1,))\n",
       "    )\n",
       "    (10): ResidualStack(\n",
       "      (stack): Sequential(\n",
       "        (0): LeakyReLU(negative_slope=0.2)\n",
       "        (1): ReflectionPad1d((3, 3))\n",
       "        (2): Conv1d(128, 128, kernel_size=(3,), stride=(1,), dilation=(3,))\n",
       "        (3): LeakyReLU(negative_slope=0.2)\n",
       "        (4): Conv1d(128, 128, kernel_size=(1,), stride=(1,))\n",
       "      )\n",
       "      (skip_layer): Conv1d(128, 128, kernel_size=(1,), stride=(1,))\n",
       "    )\n",
       "    (11): ResidualStack(\n",
       "      (stack): Sequential(\n",
       "        (0): LeakyReLU(negative_slope=0.2)\n",
       "        (1): ReflectionPad1d((9, 9))\n",
       "        (2): Conv1d(128, 128, kernel_size=(3,), stride=(1,), dilation=(9,))\n",
       "        (3): LeakyReLU(negative_slope=0.2)\n",
       "        (4): Conv1d(128, 128, kernel_size=(1,), stride=(1,))\n",
       "      )\n",
       "      (skip_layer): Conv1d(128, 128, kernel_size=(1,), stride=(1,))\n",
       "    )\n",
       "    (12): LeakyReLU(negative_slope=0.2)\n",
       "    (13): ConvTranspose1d(128, 64, kernel_size=(4,), stride=(2,), padding=(1,))\n",
       "    (14): ResidualStack(\n",
       "      (stack): Sequential(\n",
       "        (0): LeakyReLU(negative_slope=0.2)\n",
       "        (1): ReflectionPad1d((1, 1))\n",
       "        (2): Conv1d(64, 64, kernel_size=(3,), stride=(1,))\n",
       "        (3): LeakyReLU(negative_slope=0.2)\n",
       "        (4): Conv1d(64, 64, kernel_size=(1,), stride=(1,))\n",
       "      )\n",
       "      (skip_layer): Conv1d(64, 64, kernel_size=(1,), stride=(1,))\n",
       "    )\n",
       "    (15): ResidualStack(\n",
       "      (stack): Sequential(\n",
       "        (0): LeakyReLU(negative_slope=0.2)\n",
       "        (1): ReflectionPad1d((3, 3))\n",
       "        (2): Conv1d(64, 64, kernel_size=(3,), stride=(1,), dilation=(3,))\n",
       "        (3): LeakyReLU(negative_slope=0.2)\n",
       "        (4): Conv1d(64, 64, kernel_size=(1,), stride=(1,))\n",
       "      )\n",
       "      (skip_layer): Conv1d(64, 64, kernel_size=(1,), stride=(1,))\n",
       "    )\n",
       "    (16): ResidualStack(\n",
       "      (stack): Sequential(\n",
       "        (0): LeakyReLU(negative_slope=0.2)\n",
       "        (1): ReflectionPad1d((9, 9))\n",
       "        (2): Conv1d(64, 64, kernel_size=(3,), stride=(1,), dilation=(9,))\n",
       "        (3): LeakyReLU(negative_slope=0.2)\n",
       "        (4): Conv1d(64, 64, kernel_size=(1,), stride=(1,))\n",
       "      )\n",
       "      (skip_layer): Conv1d(64, 64, kernel_size=(1,), stride=(1,))\n",
       "    )\n",
       "    (17): LeakyReLU(negative_slope=0.2)\n",
       "    (18): ConvTranspose1d(64, 32, kernel_size=(4,), stride=(2,), padding=(1,))\n",
       "    (19): ResidualStack(\n",
       "      (stack): Sequential(\n",
       "        (0): LeakyReLU(negative_slope=0.2)\n",
       "        (1): ReflectionPad1d((1, 1))\n",
       "        (2): Conv1d(32, 32, kernel_size=(3,), stride=(1,))\n",
       "        (3): LeakyReLU(negative_slope=0.2)\n",
       "        (4): Conv1d(32, 32, kernel_size=(1,), stride=(1,))\n",
       "      )\n",
       "      (skip_layer): Conv1d(32, 32, kernel_size=(1,), stride=(1,))\n",
       "    )\n",
       "    (20): ResidualStack(\n",
       "      (stack): Sequential(\n",
       "        (0): LeakyReLU(negative_slope=0.2)\n",
       "        (1): ReflectionPad1d((3, 3))\n",
       "        (2): Conv1d(32, 32, kernel_size=(3,), stride=(1,), dilation=(3,))\n",
       "        (3): LeakyReLU(negative_slope=0.2)\n",
       "        (4): Conv1d(32, 32, kernel_size=(1,), stride=(1,))\n",
       "      )\n",
       "      (skip_layer): Conv1d(32, 32, kernel_size=(1,), stride=(1,))\n",
       "    )\n",
       "    (21): ResidualStack(\n",
       "      (stack): Sequential(\n",
       "        (0): LeakyReLU(negative_slope=0.2)\n",
       "        (1): ReflectionPad1d((9, 9))\n",
       "        (2): Conv1d(32, 32, kernel_size=(3,), stride=(1,), dilation=(9,))\n",
       "        (3): LeakyReLU(negative_slope=0.2)\n",
       "        (4): Conv1d(32, 32, kernel_size=(1,), stride=(1,))\n",
       "      )\n",
       "      (skip_layer): Conv1d(32, 32, kernel_size=(1,), stride=(1,))\n",
       "    )\n",
       "    (22): LeakyReLU(negative_slope=0.2)\n",
       "    (23): ReflectionPad1d((3, 3))\n",
       "    (24): Conv1d(32, 1, kernel_size=(7,), stride=(1,))\n",
       "    (25): Tanh()\n",
       "  )\n",
       ")"
      ]
     },
     "execution_count": 4,
     "metadata": {},
     "output_type": "execute_result"
    }
   ],
   "source": [
    "# define pytorch model\n",
    "pytorch_melgan = MelGANGenerator(**config[\"generator_params\"])\n",
    "pytorch_melgan.remove_weight_norm()  # needed since TFMelGANGenerator does not support weight norm\n",
    "pytorch_melgan.to(\"cpu\")"
   ]
  },
  {
   "cell_type": "code",
   "execution_count": 5,
   "metadata": {},
   "outputs": [
    {
     "name": "stdout",
     "output_type": "stream",
     "text": [
      "Number Tensorflow variables:  84\n",
      "Number Pytorch variables:  84\n"
     ]
    }
   ],
   "source": [
    "# check the number of variables are the same\n",
    "state_dict = pytorch_melgan.state_dict()\n",
    "tf_vars = tf.compat.v1.global_variables()\n",
    "print(\"Number Tensorflow variables: \", len(tf_vars))\n",
    "print(\"Number Pytorch variables: \", len(state_dict.keys()))"
   ]
  },
  {
   "cell_type": "markdown",
   "metadata": {},
   "source": [
    "## Convert parameters from pytorch to tensorflow"
   ]
  },
  {
   "cell_type": "code",
   "execution_count": 6,
   "metadata": {},
   "outputs": [],
   "source": [
    "def reorder_tf_vars(tf_vars):\n",
    "    \"\"\"\n",
    "    Reorder tensorflow variables to match with pytorch state dict order. \n",
    "    Since each tensorflow layer's order is bias -> weight while pytorch's \n",
    "    one is weight -> bias, we change the order of variables.\n",
    "    \"\"\"\n",
    "    tf_new_var = []\n",
    "    for i in range(0, len(tf_vars), 2):\n",
    "        tf_new_var.append(tf_vars[i + 1])\n",
    "        tf_new_var.append(tf_vars[i])\n",
    "    return tf_new_var"
   ]
  },
  {
   "cell_type": "code",
   "execution_count": 7,
   "metadata": {},
   "outputs": [],
   "source": [
    "# change the order of variables to be the same as pytorch\n",
    "tf_vars = reorder_tf_vars(tf_vars)"
   ]
  },
  {
   "cell_type": "code",
   "execution_count": 8,
   "metadata": {},
   "outputs": [],
   "source": [
    "def convert_weights_pytorch_to_tensorflow(weights_pytorch):\n",
    "    \"\"\"\n",
    "    Convert pytorch Conv1d weight variable to tensorflow Conv2D weights.\n",
    "    Pytorch (f_output, f_input, kernel_size) -> TF (kernel_size, f_input, 1, f_output)\n",
    "    \"\"\"\n",
    "    weights_tensorflow = np.transpose(weights_pytorch, (0,2,1))  # [f_output, kernel_size, f_input]\n",
    "    weights_tensorflow = np.transpose(weights_tensorflow, (1,0,2))  # [kernel-size, f_output, f_input]\n",
    "    weights_tensorflow = np.transpose(weights_tensorflow, (0,2,1))  # [kernel-size, f_input, f_output]\n",
    "    weights_tensorflow = np.expand_dims(weights_tensorflow, 1)  # [kernel-size, f_input, 1, f_output]\n",
    "    return weights_tensorflow"
   ]
  },
  {
   "cell_type": "code",
   "execution_count": 9,
   "metadata": {},
   "outputs": [],
   "source": [
    "# convert pytorch's variables to tensorflow's one\n",
    "for i, var_name in enumerate(state_dict):\n",
    "    try:\n",
    "        tf_name = tf_vars[i]\n",
    "        torch_tensor = state_dict[var_name].numpy()\n",
    "        if torch_tensor.ndim >= 2:\n",
    "            tensorflow_tensor = convert_weights_pytorch_to_tensorflow(torch_tensor)\n",
    "        else:\n",
    "            tensorflow_tensor = torch_tensor\n",
    "        tf.keras.backend.set_value(tf_name, tensorflow_tensor)\n",
    "    except:\n",
    "        print(tf_name)"
   ]
  },
  {
   "cell_type": "markdown",
   "metadata": {},
   "source": [
    "## Check both outputs are almost the equal"
   ]
  },
  {
   "cell_type": "code",
   "execution_count": 10,
   "metadata": {},
   "outputs": [],
   "source": [
    "fake_mels = np.random.sample((1, 80, 250)).astype(np.float32)\n",
    "with torch.no_grad():\n",
    "    y_pytorch = pytorch_melgan(torch.Tensor(fake_mels).to(\"cpu\"))\n",
    "y_tensorflow = tf_melgan.predict(np.transpose(fake_mels, (0, 2, 1)))\n",
    "np.testing.assert_almost_equal(\n",
    "    y_pytorch[0, 0, :].numpy(),\n",
    "    y_tensorflow[0, :, 0],\n",
    ")"
   ]
  },
  {
   "cell_type": "markdown",
   "metadata": {},
   "source": [
    "## Save Tensorflow and Pytorch models for benchmark"
   ]
  },
  {
   "cell_type": "code",
   "execution_count": 11,
   "metadata": {},
   "outputs": [
    {
     "name": "stdout",
     "output_type": "stream",
     "text": [
      "INFO:tensorflow:Assets written to: ./checkpoint/tensorflow_generator/assets\n"
     ]
    },
    {
     "name": "stderr",
     "output_type": "stream",
     "text": [
      "INFO:tensorflow:Assets written to: ./checkpoint/tensorflow_generator/assets\n"
     ]
    }
   ],
   "source": [
    "os.makedirs(\"./checkpoint/tensorflow_generator/\", exist_ok=True)\n",
    "os.makedirs(\"./checkpoint/pytorch_generator/\", exist_ok=True)\n",
    "tf.saved_model.save(tf_melgan, \"./checkpoint/tensorflow_generator/\")\n",
    "torch.save(pytorch_melgan.state_dict(), \"./checkpoint/pytorch_generator/checkpoint.pkl\")"
   ]
  },
  {
   "cell_type": "markdown",
   "metadata": {},
   "source": [
    "## Inference speed benchmark\n",
    "\n",
    "From here, we will compare the inference speed using pytorch model and converted tensorflow model."
   ]
  },
  {
   "cell_type": "code",
   "execution_count": null,
   "metadata": {},
   "outputs": [
    {
     "data": {
      "text/html": [
       "<script>Jupyter.notebook.kernel.restart()</script>"
      ],
      "text/plain": [
       "<IPython.core.display.HTML object>"
      ]
     },
     "execution_count": 12,
     "metadata": {},
     "output_type": "execute_result"
    }
   ],
   "source": [
    "# To enable eager mode, we need to restart the ipython kernel\n",
    "from IPython.core.display import HTML\n",
    "HTML(\"<script>Jupyter.notebook.kernel.restart()</script>\")"
   ]
  },
  {
   "cell_type": "code",
   "execution_count": 1,
   "metadata": {},
   "outputs": [
    {
     "data": {
      "text/plain": [
       "MelGANGenerator(\n",
       "  (melgan): Sequential(\n",
       "    (0): ReflectionPad1d((3, 3))\n",
       "    (1): Conv1d(80, 512, kernel_size=(7,), stride=(1,))\n",
       "    (2): LeakyReLU(negative_slope=0.2)\n",
       "    (3): ConvTranspose1d(512, 256, kernel_size=(16,), stride=(8,), padding=(4,))\n",
       "    (4): ResidualStack(\n",
       "      (stack): Sequential(\n",
       "        (0): LeakyReLU(negative_slope=0.2)\n",
       "        (1): ReflectionPad1d((1, 1))\n",
       "        (2): Conv1d(256, 256, kernel_size=(3,), stride=(1,))\n",
       "        (3): LeakyReLU(negative_slope=0.2)\n",
       "        (4): Conv1d(256, 256, kernel_size=(1,), stride=(1,))\n",
       "      )\n",
       "      (skip_layer): Conv1d(256, 256, kernel_size=(1,), stride=(1,))\n",
       "    )\n",
       "    (5): ResidualStack(\n",
       "      (stack): Sequential(\n",
       "        (0): LeakyReLU(negative_slope=0.2)\n",
       "        (1): ReflectionPad1d((3, 3))\n",
       "        (2): Conv1d(256, 256, kernel_size=(3,), stride=(1,), dilation=(3,))\n",
       "        (3): LeakyReLU(negative_slope=0.2)\n",
       "        (4): Conv1d(256, 256, kernel_size=(1,), stride=(1,))\n",
       "      )\n",
       "      (skip_layer): Conv1d(256, 256, kernel_size=(1,), stride=(1,))\n",
       "    )\n",
       "    (6): ResidualStack(\n",
       "      (stack): Sequential(\n",
       "        (0): LeakyReLU(negative_slope=0.2)\n",
       "        (1): ReflectionPad1d((9, 9))\n",
       "        (2): Conv1d(256, 256, kernel_size=(3,), stride=(1,), dilation=(9,))\n",
       "        (3): LeakyReLU(negative_slope=0.2)\n",
       "        (4): Conv1d(256, 256, kernel_size=(1,), stride=(1,))\n",
       "      )\n",
       "      (skip_layer): Conv1d(256, 256, kernel_size=(1,), stride=(1,))\n",
       "    )\n",
       "    (7): LeakyReLU(negative_slope=0.2)\n",
       "    (8): ConvTranspose1d(256, 128, kernel_size=(16,), stride=(8,), padding=(4,))\n",
       "    (9): ResidualStack(\n",
       "      (stack): Sequential(\n",
       "        (0): LeakyReLU(negative_slope=0.2)\n",
       "        (1): ReflectionPad1d((1, 1))\n",
       "        (2): Conv1d(128, 128, kernel_size=(3,), stride=(1,))\n",
       "        (3): LeakyReLU(negative_slope=0.2)\n",
       "        (4): Conv1d(128, 128, kernel_size=(1,), stride=(1,))\n",
       "      )\n",
       "      (skip_layer): Conv1d(128, 128, kernel_size=(1,), stride=(1,))\n",
       "    )\n",
       "    (10): ResidualStack(\n",
       "      (stack): Sequential(\n",
       "        (0): LeakyReLU(negative_slope=0.2)\n",
       "        (1): ReflectionPad1d((3, 3))\n",
       "        (2): Conv1d(128, 128, kernel_size=(3,), stride=(1,), dilation=(3,))\n",
       "        (3): LeakyReLU(negative_slope=0.2)\n",
       "        (4): Conv1d(128, 128, kernel_size=(1,), stride=(1,))\n",
       "      )\n",
       "      (skip_layer): Conv1d(128, 128, kernel_size=(1,), stride=(1,))\n",
       "    )\n",
       "    (11): ResidualStack(\n",
       "      (stack): Sequential(\n",
       "        (0): LeakyReLU(negative_slope=0.2)\n",
       "        (1): ReflectionPad1d((9, 9))\n",
       "        (2): Conv1d(128, 128, kernel_size=(3,), stride=(1,), dilation=(9,))\n",
       "        (3): LeakyReLU(negative_slope=0.2)\n",
       "        (4): Conv1d(128, 128, kernel_size=(1,), stride=(1,))\n",
       "      )\n",
       "      (skip_layer): Conv1d(128, 128, kernel_size=(1,), stride=(1,))\n",
       "    )\n",
       "    (12): LeakyReLU(negative_slope=0.2)\n",
       "    (13): ConvTranspose1d(128, 64, kernel_size=(4,), stride=(2,), padding=(1,))\n",
       "    (14): ResidualStack(\n",
       "      (stack): Sequential(\n",
       "        (0): LeakyReLU(negative_slope=0.2)\n",
       "        (1): ReflectionPad1d((1, 1))\n",
       "        (2): Conv1d(64, 64, kernel_size=(3,), stride=(1,))\n",
       "        (3): LeakyReLU(negative_slope=0.2)\n",
       "        (4): Conv1d(64, 64, kernel_size=(1,), stride=(1,))\n",
       "      )\n",
       "      (skip_layer): Conv1d(64, 64, kernel_size=(1,), stride=(1,))\n",
       "    )\n",
       "    (15): ResidualStack(\n",
       "      (stack): Sequential(\n",
       "        (0): LeakyReLU(negative_slope=0.2)\n",
       "        (1): ReflectionPad1d((3, 3))\n",
       "        (2): Conv1d(64, 64, kernel_size=(3,), stride=(1,), dilation=(3,))\n",
       "        (3): LeakyReLU(negative_slope=0.2)\n",
       "        (4): Conv1d(64, 64, kernel_size=(1,), stride=(1,))\n",
       "      )\n",
       "      (skip_layer): Conv1d(64, 64, kernel_size=(1,), stride=(1,))\n",
       "    )\n",
       "    (16): ResidualStack(\n",
       "      (stack): Sequential(\n",
       "        (0): LeakyReLU(negative_slope=0.2)\n",
       "        (1): ReflectionPad1d((9, 9))\n",
       "        (2): Conv1d(64, 64, kernel_size=(3,), stride=(1,), dilation=(9,))\n",
       "        (3): LeakyReLU(negative_slope=0.2)\n",
       "        (4): Conv1d(64, 64, kernel_size=(1,), stride=(1,))\n",
       "      )\n",
       "      (skip_layer): Conv1d(64, 64, kernel_size=(1,), stride=(1,))\n",
       "    )\n",
       "    (17): LeakyReLU(negative_slope=0.2)\n",
       "    (18): ConvTranspose1d(64, 32, kernel_size=(4,), stride=(2,), padding=(1,))\n",
       "    (19): ResidualStack(\n",
       "      (stack): Sequential(\n",
       "        (0): LeakyReLU(negative_slope=0.2)\n",
       "        (1): ReflectionPad1d((1, 1))\n",
       "        (2): Conv1d(32, 32, kernel_size=(3,), stride=(1,))\n",
       "        (3): LeakyReLU(negative_slope=0.2)\n",
       "        (4): Conv1d(32, 32, kernel_size=(1,), stride=(1,))\n",
       "      )\n",
       "      (skip_layer): Conv1d(32, 32, kernel_size=(1,), stride=(1,))\n",
       "    )\n",
       "    (20): ResidualStack(\n",
       "      (stack): Sequential(\n",
       "        (0): LeakyReLU(negative_slope=0.2)\n",
       "        (1): ReflectionPad1d((3, 3))\n",
       "        (2): Conv1d(32, 32, kernel_size=(3,), stride=(1,), dilation=(3,))\n",
       "        (3): LeakyReLU(negative_slope=0.2)\n",
       "        (4): Conv1d(32, 32, kernel_size=(1,), stride=(1,))\n",
       "      )\n",
       "      (skip_layer): Conv1d(32, 32, kernel_size=(1,), stride=(1,))\n",
       "    )\n",
       "    (21): ResidualStack(\n",
       "      (stack): Sequential(\n",
       "        (0): LeakyReLU(negative_slope=0.2)\n",
       "        (1): ReflectionPad1d((9, 9))\n",
       "        (2): Conv1d(32, 32, kernel_size=(3,), stride=(1,), dilation=(9,))\n",
       "        (3): LeakyReLU(negative_slope=0.2)\n",
       "        (4): Conv1d(32, 32, kernel_size=(1,), stride=(1,))\n",
       "      )\n",
       "      (skip_layer): Conv1d(32, 32, kernel_size=(1,), stride=(1,))\n",
       "    )\n",
       "    (22): LeakyReLU(negative_slope=0.2)\n",
       "    (23): ReflectionPad1d((3, 3))\n",
       "    (24): Conv1d(32, 1, kernel_size=(7,), stride=(1,))\n",
       "    (25): Tanh()\n",
       "  )\n",
       ")"
      ]
     },
     "execution_count": 1,
     "metadata": {},
     "output_type": "execute_result"
    }
   ],
   "source": [
    "# setup pytorch model\n",
    "import os\n",
    "import yaml\n",
    "\n",
    "import numpy as np\n",
    "import torch\n",
    "\n",
    "from parallel_wavegan.models import MelGANGenerator\n",
    "\n",
    "os.environ[\"CUDA_VISIBLE_DEVICES\"]=\"\" \n",
    "\n",
    "vocoder_conf = '../egs/ljspeech/voc1/conf/melgan.v1.long.yaml'\n",
    "with open(vocoder_conf) as f:\n",
    "    config = yaml.load(f, Loader=yaml.Loader)\n",
    "pytorch_melgan = MelGANGenerator(**config[\"generator_params\"])\n",
    "pytorch_melgan.remove_weight_norm()\n",
    "pytorch_melgan.load_state_dict(torch.load(\n",
    "    \"./checkpoint/pytorch_generator/checkpoint.pkl\", map_location=\"cpu\"))\n",
    "pytorch_melgan.to(\"cpu\")"
   ]
  },
  {
   "cell_type": "code",
   "execution_count": 2,
   "metadata": {},
   "outputs": [],
   "source": [
    "# setup tensorflow model\n",
    "import tensorflow as tf\n",
    "\n",
    "from tensorflow.python.framework import convert_to_constants\n",
    "from tensorflow.python.saved_model import signature_constants\n",
    "from tensorflow.python.saved_model import tag_constants\n",
    "\n",
    "class TFMelGAN(object):\n",
    "    def __init__(self, saved_path):\n",
    "        self.saved_path = saved_path\n",
    "        self.graph = self._load_model()\n",
    "        self.mels = None\n",
    "        self.audios = None\n",
    "    \n",
    "    def _load_model(self):\n",
    "        saved_model_loaded = tf.saved_model.load(\n",
    "            self.saved_path, tags=[tag_constants.SERVING])\n",
    "        graph_func = saved_model_loaded.signatures[\n",
    "            signature_constants.DEFAULT_SERVING_SIGNATURE_DEF_KEY]\n",
    "        graph_func = convert_to_constants.convert_variables_to_constants_v2(graph_func)\n",
    "        return graph_func\n",
    "\n",
    "    def set_mels(self, values):\n",
    "        self.mels = values\n",
    "\n",
    "    def get_mels(self):\n",
    "        return self.mels\n",
    "\n",
    "    def get_audio(self):\n",
    "        return self.audios\n",
    "\n",
    "    def run_inference(self):\n",
    "        tf_mels = tf.constant(self.mels)\n",
    "        self.audios = self.graph(tf_mels)[0].numpy()[:, :, 0]\n",
    "        return self.audios   \n",
    "    \n",
    "tf_melgan = TFMelGAN(saved_path='./checkpoint/tensorflow_generator/')"
   ]
  },
  {
   "cell_type": "code",
   "execution_count": 3,
   "metadata": {},
   "outputs": [],
   "source": [
    "# warmup\n",
    "fake_mels = np.random.sample((4, 80, 500)).astype(np.float32)\n",
    "y = pytorch_melgan(torch.Tensor(fake_mels))\n",
    "y = pytorch_melgan(torch.Tensor(fake_mels))\n",
    "tf_melgan.set_mels(np.random.sample((4, 500, 80)).astype(np.float32))\n",
    "y = tf_melgan.run_inference()\n",
    "y = tf_melgan.run_inference()"
   ]
  },
  {
   "cell_type": "code",
   "execution_count": 4,
   "metadata": {},
   "outputs": [
    {
     "name": "stdout",
     "output_type": "stream",
     "text": [
      "CPU times: user 10min 19s, sys: 8.18 s, total: 10min 27s\n",
      "Wall time: 26.4 s\n"
     ]
    }
   ],
   "source": [
    "%%time\n",
    "# check pytorch inference speed\n",
    "with torch.no_grad():\n",
    "    y = pytorch_melgan(torch.Tensor(fake_mels))"
   ]
  },
  {
   "cell_type": "code",
   "execution_count": 5,
   "metadata": {},
   "outputs": [
    {
     "name": "stdout",
     "output_type": "stream",
     "text": [
      "CPU times: user 7.62 s, sys: 6.51 s, total: 14.1 s\n",
      "Wall time: 1.63 s\n"
     ]
    }
   ],
   "source": [
    "%%time\n",
    "# check tensorflow inference speed\n",
    "y = tf_melgan.run_inference()"
   ]
  }
 ],
 "metadata": {
  "kernelspec": {
   "display_name": "Python 3",
   "language": "python",
   "name": "python3"
  },
  "language_info": {
   "codemirror_mode": {
    "name": "ipython",
    "version": 3
   },
   "file_extension": ".py",
   "mimetype": "text/x-python",
   "name": "python",
   "nbconvert_exporter": "python",
   "pygments_lexer": "ipython3",
   "version": "3.6.4"
  }
 },
 "nbformat": 4,
 "nbformat_minor": 2
}
