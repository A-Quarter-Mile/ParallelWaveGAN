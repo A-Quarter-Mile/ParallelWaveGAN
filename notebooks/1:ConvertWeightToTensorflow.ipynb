{
 "cells": [
  {
   "cell_type": "code",
   "execution_count": 1,
   "metadata": {},
   "outputs": [],
   "source": [
    "import os\n",
    "import yaml\n",
    "os.environ[\"CUDA_VISIBLE_DEVICES\"]=\"-1\" \n",
    "\n",
    "import tensorflow as tf\n",
    "tf.compat.v1.disable_eager_execution()\n",
    "\n",
    "import numpy as np\n",
    "\n",
    "from parallel_wavegan.models import TFMelGANGenerator, MelGANGenerator\n",
    "import torch"
   ]
  },
  {
   "cell_type": "code",
   "execution_count": 2,
   "metadata": {},
   "outputs": [],
   "source": [
    "vocoder_conf = '../egs/ljspeech/voc1/conf/melgan.v1.long.yaml'"
   ]
  },
  {
   "cell_type": "code",
   "execution_count": 3,
   "metadata": {},
   "outputs": [],
   "source": [
    "with open(vocoder_conf) as f:\n",
    "    config = yaml.load(f, Loader=yaml.Loader)"
   ]
  },
  {
   "cell_type": "code",
   "execution_count": 4,
   "metadata": {},
   "outputs": [
    {
     "name": "stdout",
     "output_type": "stream",
     "text": [
      "WARNING:tensorflow:From /home/cpu12657-local/anaconda3/lib/python3.7/site-packages/tensorflow_core/python/ops/resource_variable_ops.py:1786: calling BaseResourceVariable.__init__ (from tensorflow.python.ops.resource_variable_ops) with constraint is deprecated and will be removed in a future version.\n",
      "Instructions for updating:\n",
      "If using Keras pass *_constraint arguments to layers.\n",
      "Model: \"model\"\n",
      "_________________________________________________________________\n",
      "Layer (type)                 Output Shape              Param #   \n",
      "=================================================================\n",
      "input_1 (InputLayer)         [(None, None, 80)]        0         \n",
      "_________________________________________________________________\n",
      "tf_mel_gan_generator (TFMelG (None, None, 1)           4260257   \n",
      "=================================================================\n",
      "Total params: 4,260,257\n",
      "Trainable params: 4,260,257\n",
      "Non-trainable params: 0\n",
      "_________________________________________________________________\n"
     ]
    }
   ],
   "source": [
    "inputs = tf.keras.Input(batch_shape=[None, None, 80], dtype=tf.float32)\n",
    "audio = TFMelGANGenerator(**config[\"generator_params\"])(inputs)\n",
    "tf_melgan = tf.keras.models.Model(inputs, audio)\n",
    "tf_melgan.summary()"
   ]
  },
  {
   "cell_type": "code",
   "execution_count": null,
   "metadata": {},
   "outputs": [],
   "source": []
  },
  {
   "cell_type": "markdown",
   "metadata": {},
   "source": [
    "# load pytorch generator checkpoint"
   ]
  },
  {
   "cell_type": "code",
   "execution_count": 5,
   "metadata": {},
   "outputs": [
    {
     "data": {
      "text/plain": [
       "MelGANGenerator(\n",
       "  (melgan): Sequential(\n",
       "    (0): ReflectionPad1d((3, 3))\n",
       "    (1): Conv1d(80, 512, kernel_size=(7,), stride=(1,))\n",
       "    (2): LeakyReLU(negative_slope=0.2)\n",
       "    (3): ConvTranspose1d(512, 256, kernel_size=(16,), stride=(8,), padding=(4,))\n",
       "    (4): ResidualStack(\n",
       "      (stack): Sequential(\n",
       "        (0): LeakyReLU(negative_slope=0.2)\n",
       "        (1): ReflectionPad1d((1, 1))\n",
       "        (2): Conv1d(256, 256, kernel_size=(3,), stride=(1,))\n",
       "        (3): LeakyReLU(negative_slope=0.2)\n",
       "        (4): Conv1d(256, 256, kernel_size=(1,), stride=(1,))\n",
       "      )\n",
       "      (skip_layer): Conv1d(256, 256, kernel_size=(1,), stride=(1,))\n",
       "    )\n",
       "    (5): ResidualStack(\n",
       "      (stack): Sequential(\n",
       "        (0): LeakyReLU(negative_slope=0.2)\n",
       "        (1): ReflectionPad1d((3, 3))\n",
       "        (2): Conv1d(256, 256, kernel_size=(3,), stride=(1,), dilation=(3,))\n",
       "        (3): LeakyReLU(negative_slope=0.2)\n",
       "        (4): Conv1d(256, 256, kernel_size=(1,), stride=(1,))\n",
       "      )\n",
       "      (skip_layer): Conv1d(256, 256, kernel_size=(1,), stride=(1,))\n",
       "    )\n",
       "    (6): ResidualStack(\n",
       "      (stack): Sequential(\n",
       "        (0): LeakyReLU(negative_slope=0.2)\n",
       "        (1): ReflectionPad1d((9, 9))\n",
       "        (2): Conv1d(256, 256, kernel_size=(3,), stride=(1,), dilation=(9,))\n",
       "        (3): LeakyReLU(negative_slope=0.2)\n",
       "        (4): Conv1d(256, 256, kernel_size=(1,), stride=(1,))\n",
       "      )\n",
       "      (skip_layer): Conv1d(256, 256, kernel_size=(1,), stride=(1,))\n",
       "    )\n",
       "    (7): LeakyReLU(negative_slope=0.2)\n",
       "    (8): ConvTranspose1d(256, 128, kernel_size=(16,), stride=(8,), padding=(4,))\n",
       "    (9): ResidualStack(\n",
       "      (stack): Sequential(\n",
       "        (0): LeakyReLU(negative_slope=0.2)\n",
       "        (1): ReflectionPad1d((1, 1))\n",
       "        (2): Conv1d(128, 128, kernel_size=(3,), stride=(1,))\n",
       "        (3): LeakyReLU(negative_slope=0.2)\n",
       "        (4): Conv1d(128, 128, kernel_size=(1,), stride=(1,))\n",
       "      )\n",
       "      (skip_layer): Conv1d(128, 128, kernel_size=(1,), stride=(1,))\n",
       "    )\n",
       "    (10): ResidualStack(\n",
       "      (stack): Sequential(\n",
       "        (0): LeakyReLU(negative_slope=0.2)\n",
       "        (1): ReflectionPad1d((3, 3))\n",
       "        (2): Conv1d(128, 128, kernel_size=(3,), stride=(1,), dilation=(3,))\n",
       "        (3): LeakyReLU(negative_slope=0.2)\n",
       "        (4): Conv1d(128, 128, kernel_size=(1,), stride=(1,))\n",
       "      )\n",
       "      (skip_layer): Conv1d(128, 128, kernel_size=(1,), stride=(1,))\n",
       "    )\n",
       "    (11): ResidualStack(\n",
       "      (stack): Sequential(\n",
       "        (0): LeakyReLU(negative_slope=0.2)\n",
       "        (1): ReflectionPad1d((9, 9))\n",
       "        (2): Conv1d(128, 128, kernel_size=(3,), stride=(1,), dilation=(9,))\n",
       "        (3): LeakyReLU(negative_slope=0.2)\n",
       "        (4): Conv1d(128, 128, kernel_size=(1,), stride=(1,))\n",
       "      )\n",
       "      (skip_layer): Conv1d(128, 128, kernel_size=(1,), stride=(1,))\n",
       "    )\n",
       "    (12): LeakyReLU(negative_slope=0.2)\n",
       "    (13): ConvTranspose1d(128, 64, kernel_size=(4,), stride=(2,), padding=(1,))\n",
       "    (14): ResidualStack(\n",
       "      (stack): Sequential(\n",
       "        (0): LeakyReLU(negative_slope=0.2)\n",
       "        (1): ReflectionPad1d((1, 1))\n",
       "        (2): Conv1d(64, 64, kernel_size=(3,), stride=(1,))\n",
       "        (3): LeakyReLU(negative_slope=0.2)\n",
       "        (4): Conv1d(64, 64, kernel_size=(1,), stride=(1,))\n",
       "      )\n",
       "      (skip_layer): Conv1d(64, 64, kernel_size=(1,), stride=(1,))\n",
       "    )\n",
       "    (15): ResidualStack(\n",
       "      (stack): Sequential(\n",
       "        (0): LeakyReLU(negative_slope=0.2)\n",
       "        (1): ReflectionPad1d((3, 3))\n",
       "        (2): Conv1d(64, 64, kernel_size=(3,), stride=(1,), dilation=(3,))\n",
       "        (3): LeakyReLU(negative_slope=0.2)\n",
       "        (4): Conv1d(64, 64, kernel_size=(1,), stride=(1,))\n",
       "      )\n",
       "      (skip_layer): Conv1d(64, 64, kernel_size=(1,), stride=(1,))\n",
       "    )\n",
       "    (16): ResidualStack(\n",
       "      (stack): Sequential(\n",
       "        (0): LeakyReLU(negative_slope=0.2)\n",
       "        (1): ReflectionPad1d((9, 9))\n",
       "        (2): Conv1d(64, 64, kernel_size=(3,), stride=(1,), dilation=(9,))\n",
       "        (3): LeakyReLU(negative_slope=0.2)\n",
       "        (4): Conv1d(64, 64, kernel_size=(1,), stride=(1,))\n",
       "      )\n",
       "      (skip_layer): Conv1d(64, 64, kernel_size=(1,), stride=(1,))\n",
       "    )\n",
       "    (17): LeakyReLU(negative_slope=0.2)\n",
       "    (18): ConvTranspose1d(64, 32, kernel_size=(4,), stride=(2,), padding=(1,))\n",
       "    (19): ResidualStack(\n",
       "      (stack): Sequential(\n",
       "        (0): LeakyReLU(negative_slope=0.2)\n",
       "        (1): ReflectionPad1d((1, 1))\n",
       "        (2): Conv1d(32, 32, kernel_size=(3,), stride=(1,))\n",
       "        (3): LeakyReLU(negative_slope=0.2)\n",
       "        (4): Conv1d(32, 32, kernel_size=(1,), stride=(1,))\n",
       "      )\n",
       "      (skip_layer): Conv1d(32, 32, kernel_size=(1,), stride=(1,))\n",
       "    )\n",
       "    (20): ResidualStack(\n",
       "      (stack): Sequential(\n",
       "        (0): LeakyReLU(negative_slope=0.2)\n",
       "        (1): ReflectionPad1d((3, 3))\n",
       "        (2): Conv1d(32, 32, kernel_size=(3,), stride=(1,), dilation=(3,))\n",
       "        (3): LeakyReLU(negative_slope=0.2)\n",
       "        (4): Conv1d(32, 32, kernel_size=(1,), stride=(1,))\n",
       "      )\n",
       "      (skip_layer): Conv1d(32, 32, kernel_size=(1,), stride=(1,))\n",
       "    )\n",
       "    (21): ResidualStack(\n",
       "      (stack): Sequential(\n",
       "        (0): LeakyReLU(negative_slope=0.2)\n",
       "        (1): ReflectionPad1d((9, 9))\n",
       "        (2): Conv1d(32, 32, kernel_size=(3,), stride=(1,), dilation=(9,))\n",
       "        (3): LeakyReLU(negative_slope=0.2)\n",
       "        (4): Conv1d(32, 32, kernel_size=(1,), stride=(1,))\n",
       "      )\n",
       "      (skip_layer): Conv1d(32, 32, kernel_size=(1,), stride=(1,))\n",
       "    )\n",
       "    (22): LeakyReLU(negative_slope=0.2)\n",
       "    (23): ReflectionPad1d((3, 3))\n",
       "    (24): Conv1d(32, 1, kernel_size=(7,), stride=(1,))\n",
       "    (25): Tanh()\n",
       "  )\n",
       ")"
      ]
     },
     "execution_count": 5,
     "metadata": {},
     "output_type": "execute_result"
    }
   ],
   "source": [
    "pytorch_melgan = MelGANGenerator(**config[\"generator_params\"])\n",
    "pytorch_melgan.load_state_dict(\n",
    "    torch.load(\"./checkpoint/pytorch_generator/generator_4000000.pth\", map_location='cpu'))\n",
    "pytorch_melgan.remove_weight_norm()\n",
    "pytorch_melgan.to(\"cpu\")"
   ]
  },
  {
   "cell_type": "code",
   "execution_count": 6,
   "metadata": {},
   "outputs": [
    {
     "name": "stdout",
     "output_type": "stream",
     "text": [
      "Number TF variables:  84\n",
      "Number Pytorch variables:  84\n"
     ]
    }
   ],
   "source": [
    "state_dict = pytorch_melgan.state_dict()\n",
    "tf_vars = tf.compat.v1.global_variables()\n",
    "print(\"Number TF variables: \", len(tf_vars))\n",
    "print(\"Number Pytorch variables: \", len(state_dict.keys()))"
   ]
  },
  {
   "cell_type": "markdown",
   "metadata": {},
   "source": [
    "# Convert weight from pytorch checkpoint to tensorflow"
   ]
  },
  {
   "cell_type": "code",
   "execution_count": 7,
   "metadata": {},
   "outputs": [],
   "source": [
    "def reorder_tf_vars(tf_vars):\n",
    "    \"\"\"\n",
    "    Reorder tf variables to match with pytorch\n",
    "    state dict order. In this case, each TF layer\n",
    "    have order is bias -> weight while pytorch layer\n",
    "    is weight -> bias.\n",
    "    \"\"\"\n",
    "    tf_new_var = []\n",
    "    for i in range(0, len(tf_vars), 2):\n",
    "        tf_new_var.append(tf_vars[i+1])\n",
    "        tf_new_var.append(tf_vars[i])\n",
    "    return tf_new_var"
   ]
  },
  {
   "cell_type": "code",
   "execution_count": 8,
   "metadata": {},
   "outputs": [],
   "source": [
    "tf_vars = reorder_tf_vars(tf_vars)"
   ]
  },
  {
   "cell_type": "code",
   "execution_count": 9,
   "metadata": {},
   "outputs": [],
   "source": [
    "def convert_weights_pytorch_to_tensorflow(weights_pytorch):\n",
    "    weights_tensorflow = np.transpose(weights_pytorch, (0,2,1)) # [f_output, kernel_size, f_input]\n",
    "    weights_tensorflow = np.transpose(weights_tensorflow, (1,0,2)) # [kernel-size, f_output, f_input]\n",
    "    weights_tensorflow = np.transpose(weights_tensorflow, (0,2,1)) # [kernel-size, f_input, f_output]\n",
    "    weights_tensorflow = np.expand_dims(weights_tensorflow, 1) # [kernel-size, f_input, 1, f_output]\n",
    "    return weights_tensorflow"
   ]
  },
  {
   "cell_type": "code",
   "execution_count": 10,
   "metadata": {},
   "outputs": [],
   "source": [
    "for i, var_name in enumerate(state_dict):\n",
    "    try:\n",
    "        tf_name = tf_vars[i]\n",
    "        torch_tensor = state_dict[var_name].numpy()\n",
    "        if torch_tensor.ndim >= 2:\n",
    "            tensorflow_tensor = convert_weights_pytorch_to_tensorflow(torch_tensor)\n",
    "        else:\n",
    "            tensorflow_tensor = torch_tensor\n",
    "\n",
    "        tf.keras.backend.set_value(tf_name, tensorflow_tensor)\n",
    "    except:\n",
    "        print(tf_name)"
   ]
  },
  {
   "cell_type": "markdown",
   "metadata": {},
   "source": [
    "# Sanity check output variance"
   ]
  },
  {
   "cell_type": "code",
   "execution_count": 11,
   "metadata": {},
   "outputs": [],
   "source": [
    "fake_mels = np.random.sample((1, 80, 250)).astype(np.float32)"
   ]
  },
  {
   "cell_type": "code",
   "execution_count": 12,
   "metadata": {},
   "outputs": [],
   "source": [
    "y_pytorch = pytorch_melgan(torch.Tensor(fake_mels).to(\"cpu\"))"
   ]
  },
  {
   "cell_type": "code",
   "execution_count": 13,
   "metadata": {},
   "outputs": [],
   "source": [
    "y_tensorflow = tf_melgan.predict(np.transpose(fake_mels, (0, 2, 1)))"
   ]
  },
  {
   "cell_type": "code",
   "execution_count": 14,
   "metadata": {},
   "outputs": [
    {
     "data": {
      "text/plain": [
       "tensor([0.0037, 0.0119, 0.0176,  ..., 0.0129, 0.0058, 0.0022],\n",
       "       grad_fn=<SliceBackward>)"
      ]
     },
     "execution_count": 14,
     "metadata": {},
     "output_type": "execute_result"
    }
   ],
   "source": [
    "y_pytorch[0,0,:]"
   ]
  },
  {
   "cell_type": "code",
   "execution_count": 15,
   "metadata": {},
   "outputs": [
    {
     "data": {
      "text/plain": [
       "array([0.00366604, 0.01187663, 0.0176357 , ..., 0.01294548, 0.00580924,\n",
       "       0.00215334], dtype=float32)"
      ]
     },
     "execution_count": 15,
     "metadata": {},
     "output_type": "execute_result"
    }
   ],
   "source": [
    "y_tensorflow[0,:,0]"
   ]
  },
  {
   "cell_type": "markdown",
   "metadata": {},
   "source": [
    "# Saved Tensorflow model to saved_model format"
   ]
  },
  {
   "cell_type": "code",
   "execution_count": 16,
   "metadata": {},
   "outputs": [
    {
     "name": "stdout",
     "output_type": "stream",
     "text": [
      "INFO:tensorflow:Assets written to: ./checkpoint/tensorflow_generator/assets\n"
     ]
    },
    {
     "name": "stderr",
     "output_type": "stream",
     "text": [
      "INFO:tensorflow:Assets written to: ./checkpoint/tensorflow_generator/assets\n"
     ]
    }
   ],
   "source": [
    "tf.saved_model.save(tf_melgan, \"./checkpoint/tensorflow_generator/\")"
   ]
  },
  {
   "cell_type": "code",
   "execution_count": null,
   "metadata": {},
   "outputs": [],
   "source": []
  }
 ],
 "metadata": {
  "kernelspec": {
   "display_name": "Python 3",
   "language": "python",
   "name": "python3"
  },
  "language_info": {
   "codemirror_mode": {
    "name": "ipython",
    "version": 3
   },
   "file_extension": ".py",
   "mimetype": "text/x-python",
   "name": "python",
   "nbconvert_exporter": "python",
   "pygments_lexer": "ipython3",
   "version": "3.7.4"
  }
 },
 "nbformat": 4,
 "nbformat_minor": 2
}
