{
 "cells": [
  {
   "cell_type": "code",
   "execution_count": 1,
   "metadata": {},
   "outputs": [],
   "source": [
    "import os\n",
    "os.environ[\"CUDA_VISIBLE_DEVICES\"]=\"-1\"\n",
    "\n",
    "import tensorflow as tf\n",
    "from tensorflow.python.framework import convert_to_constants\n",
    "from tensorflow.python.saved_model import signature_constants\n",
    "from tensorflow.python.saved_model import tag_constants\n",
    "\n",
    "from parallel_wavegan.models import TFMelGANGenerator, MelGANGenerator\n",
    "import torch\n",
    "\n",
    "import yaml\n",
    "import numpy as np"
   ]
  },
  {
   "cell_type": "code",
   "execution_count": 2,
   "metadata": {},
   "outputs": [],
   "source": [
    "class TFMelgan(object):\n",
    "    def __init__(self, saved_path):\n",
    "        self.saved_path = saved_path\n",
    "        self.graph = self._load_model()\n",
    "\n",
    "        # warmup 2 steps\n",
    "        self.set_mels(tf.random.uniform(shape=[1, 250, 80]))\n",
    "        self.run_inference()\n",
    "        self.run_inference()\n",
    "\n",
    "        self.mels = None\n",
    "        self.audios = None\n",
    "    \n",
    "    def _load_model(self):\n",
    "        saved_model_loaded = tf.saved_model.load(\n",
    "          self.saved_path, tags=[tag_constants.SERVING])\n",
    "        graph_func = saved_model_loaded.signatures[\n",
    "          signature_constants.DEFAULT_SERVING_SIGNATURE_DEF_KEY]\n",
    "        graph_func = convert_to_constants.convert_variables_to_constants_v2(graph_func)\n",
    "        return graph_func\n",
    "\n",
    "    def set_mels(self, values):\n",
    "        self.mels = values\n",
    "\n",
    "    def get_mels(self):\n",
    "        return self.mels\n",
    "\n",
    "    def get_audio(self):\n",
    "        return self.audios\n",
    "\n",
    "    def run_inference(self):\n",
    "        tf_mels = tf.constant(self.mels)\n",
    "        self.audios = self.graph(tf_mels)[0].numpy()[:, :, 0]\n",
    "        return self.audios    "
   ]
  },
  {
   "cell_type": "code",
   "execution_count": 3,
   "metadata": {},
   "outputs": [],
   "source": [
    "tf_melgan = TFMelgan(saved_path='./checkpoint/tensorflow_generator/')"
   ]
  },
  {
   "cell_type": "code",
   "execution_count": 4,
   "metadata": {},
   "outputs": [],
   "source": [
    "vocoder_conf = '../egs/ljspeech/voc1/conf/melgan.v1.long.yaml'\n",
    "with open(vocoder_conf) as f:\n",
    "    config = yaml.load(f, Loader=yaml.Loader)"
   ]
  },
  {
   "cell_type": "code",
   "execution_count": 10,
   "metadata": {},
   "outputs": [
    {
     "data": {
      "text/plain": [
       "MelGANGenerator(\n",
       "  (melgan): Sequential(\n",
       "    (0): ReflectionPad1d((3, 3))\n",
       "    (1): Conv1d(80, 512, kernel_size=(7,), stride=(1,))\n",
       "    (2): LeakyReLU(negative_slope=0.2)\n",
       "    (3): ConvTranspose1d(512, 256, kernel_size=(16,), stride=(8,), padding=(4,))\n",
       "    (4): ResidualStack(\n",
       "      (stack): Sequential(\n",
       "        (0): LeakyReLU(negative_slope=0.2)\n",
       "        (1): ReflectionPad1d((1, 1))\n",
       "        (2): Conv1d(256, 256, kernel_size=(3,), stride=(1,))\n",
       "        (3): LeakyReLU(negative_slope=0.2)\n",
       "        (4): Conv1d(256, 256, kernel_size=(1,), stride=(1,))\n",
       "      )\n",
       "      (skip_layer): Conv1d(256, 256, kernel_size=(1,), stride=(1,))\n",
       "    )\n",
       "    (5): ResidualStack(\n",
       "      (stack): Sequential(\n",
       "        (0): LeakyReLU(negative_slope=0.2)\n",
       "        (1): ReflectionPad1d((3, 3))\n",
       "        (2): Conv1d(256, 256, kernel_size=(3,), stride=(1,), dilation=(3,))\n",
       "        (3): LeakyReLU(negative_slope=0.2)\n",
       "        (4): Conv1d(256, 256, kernel_size=(1,), stride=(1,))\n",
       "      )\n",
       "      (skip_layer): Conv1d(256, 256, kernel_size=(1,), stride=(1,))\n",
       "    )\n",
       "    (6): ResidualStack(\n",
       "      (stack): Sequential(\n",
       "        (0): LeakyReLU(negative_slope=0.2)\n",
       "        (1): ReflectionPad1d((9, 9))\n",
       "        (2): Conv1d(256, 256, kernel_size=(3,), stride=(1,), dilation=(9,))\n",
       "        (3): LeakyReLU(negative_slope=0.2)\n",
       "        (4): Conv1d(256, 256, kernel_size=(1,), stride=(1,))\n",
       "      )\n",
       "      (skip_layer): Conv1d(256, 256, kernel_size=(1,), stride=(1,))\n",
       "    )\n",
       "    (7): LeakyReLU(negative_slope=0.2)\n",
       "    (8): ConvTranspose1d(256, 128, kernel_size=(16,), stride=(8,), padding=(4,))\n",
       "    (9): ResidualStack(\n",
       "      (stack): Sequential(\n",
       "        (0): LeakyReLU(negative_slope=0.2)\n",
       "        (1): ReflectionPad1d((1, 1))\n",
       "        (2): Conv1d(128, 128, kernel_size=(3,), stride=(1,))\n",
       "        (3): LeakyReLU(negative_slope=0.2)\n",
       "        (4): Conv1d(128, 128, kernel_size=(1,), stride=(1,))\n",
       "      )\n",
       "      (skip_layer): Conv1d(128, 128, kernel_size=(1,), stride=(1,))\n",
       "    )\n",
       "    (10): ResidualStack(\n",
       "      (stack): Sequential(\n",
       "        (0): LeakyReLU(negative_slope=0.2)\n",
       "        (1): ReflectionPad1d((3, 3))\n",
       "        (2): Conv1d(128, 128, kernel_size=(3,), stride=(1,), dilation=(3,))\n",
       "        (3): LeakyReLU(negative_slope=0.2)\n",
       "        (4): Conv1d(128, 128, kernel_size=(1,), stride=(1,))\n",
       "      )\n",
       "      (skip_layer): Conv1d(128, 128, kernel_size=(1,), stride=(1,))\n",
       "    )\n",
       "    (11): ResidualStack(\n",
       "      (stack): Sequential(\n",
       "        (0): LeakyReLU(negative_slope=0.2)\n",
       "        (1): ReflectionPad1d((9, 9))\n",
       "        (2): Conv1d(128, 128, kernel_size=(3,), stride=(1,), dilation=(9,))\n",
       "        (3): LeakyReLU(negative_slope=0.2)\n",
       "        (4): Conv1d(128, 128, kernel_size=(1,), stride=(1,))\n",
       "      )\n",
       "      (skip_layer): Conv1d(128, 128, kernel_size=(1,), stride=(1,))\n",
       "    )\n",
       "    (12): LeakyReLU(negative_slope=0.2)\n",
       "    (13): ConvTranspose1d(128, 64, kernel_size=(4,), stride=(2,), padding=(1,))\n",
       "    (14): ResidualStack(\n",
       "      (stack): Sequential(\n",
       "        (0): LeakyReLU(negative_slope=0.2)\n",
       "        (1): ReflectionPad1d((1, 1))\n",
       "        (2): Conv1d(64, 64, kernel_size=(3,), stride=(1,))\n",
       "        (3): LeakyReLU(negative_slope=0.2)\n",
       "        (4): Conv1d(64, 64, kernel_size=(1,), stride=(1,))\n",
       "      )\n",
       "      (skip_layer): Conv1d(64, 64, kernel_size=(1,), stride=(1,))\n",
       "    )\n",
       "    (15): ResidualStack(\n",
       "      (stack): Sequential(\n",
       "        (0): LeakyReLU(negative_slope=0.2)\n",
       "        (1): ReflectionPad1d((3, 3))\n",
       "        (2): Conv1d(64, 64, kernel_size=(3,), stride=(1,), dilation=(3,))\n",
       "        (3): LeakyReLU(negative_slope=0.2)\n",
       "        (4): Conv1d(64, 64, kernel_size=(1,), stride=(1,))\n",
       "      )\n",
       "      (skip_layer): Conv1d(64, 64, kernel_size=(1,), stride=(1,))\n",
       "    )\n",
       "    (16): ResidualStack(\n",
       "      (stack): Sequential(\n",
       "        (0): LeakyReLU(negative_slope=0.2)\n",
       "        (1): ReflectionPad1d((9, 9))\n",
       "        (2): Conv1d(64, 64, kernel_size=(3,), stride=(1,), dilation=(9,))\n",
       "        (3): LeakyReLU(negative_slope=0.2)\n",
       "        (4): Conv1d(64, 64, kernel_size=(1,), stride=(1,))\n",
       "      )\n",
       "      (skip_layer): Conv1d(64, 64, kernel_size=(1,), stride=(1,))\n",
       "    )\n",
       "    (17): LeakyReLU(negative_slope=0.2)\n",
       "    (18): ConvTranspose1d(64, 32, kernel_size=(4,), stride=(2,), padding=(1,))\n",
       "    (19): ResidualStack(\n",
       "      (stack): Sequential(\n",
       "        (0): LeakyReLU(negative_slope=0.2)\n",
       "        (1): ReflectionPad1d((1, 1))\n",
       "        (2): Conv1d(32, 32, kernel_size=(3,), stride=(1,))\n",
       "        (3): LeakyReLU(negative_slope=0.2)\n",
       "        (4): Conv1d(32, 32, kernel_size=(1,), stride=(1,))\n",
       "      )\n",
       "      (skip_layer): Conv1d(32, 32, kernel_size=(1,), stride=(1,))\n",
       "    )\n",
       "    (20): ResidualStack(\n",
       "      (stack): Sequential(\n",
       "        (0): LeakyReLU(negative_slope=0.2)\n",
       "        (1): ReflectionPad1d((3, 3))\n",
       "        (2): Conv1d(32, 32, kernel_size=(3,), stride=(1,), dilation=(3,))\n",
       "        (3): LeakyReLU(negative_slope=0.2)\n",
       "        (4): Conv1d(32, 32, kernel_size=(1,), stride=(1,))\n",
       "      )\n",
       "      (skip_layer): Conv1d(32, 32, kernel_size=(1,), stride=(1,))\n",
       "    )\n",
       "    (21): ResidualStack(\n",
       "      (stack): Sequential(\n",
       "        (0): LeakyReLU(negative_slope=0.2)\n",
       "        (1): ReflectionPad1d((9, 9))\n",
       "        (2): Conv1d(32, 32, kernel_size=(3,), stride=(1,), dilation=(9,))\n",
       "        (3): LeakyReLU(negative_slope=0.2)\n",
       "        (4): Conv1d(32, 32, kernel_size=(1,), stride=(1,))\n",
       "      )\n",
       "      (skip_layer): Conv1d(32, 32, kernel_size=(1,), stride=(1,))\n",
       "    )\n",
       "    (22): LeakyReLU(negative_slope=0.2)\n",
       "    (23): ReflectionPad1d((3, 3))\n",
       "    (24): Conv1d(32, 1, kernel_size=(7,), stride=(1,))\n",
       "    (25): Tanh()\n",
       "  )\n",
       ")"
      ]
     },
     "execution_count": 10,
     "metadata": {},
     "output_type": "execute_result"
    }
   ],
   "source": [
    "pytorch_melgan = MelGANGenerator(**config[\"generator_params\"])\n",
    "pytorch_melgan.load_state_dict(\n",
    "    torch.load(\"./checkpoint/pytorch_generator/generator_4000000.pth\", map_location='cpu'))\n",
    "pytorch_melgan.remove_weight_norm()\n",
    "pytorch_melgan.to(\"cpu\")\n",
    "pytorch_melgan.eval().to(\"cpu\")"
   ]
  },
  {
   "cell_type": "code",
   "execution_count": 11,
   "metadata": {},
   "outputs": [],
   "source": [
    "fake_mels = np.random.sample((4, 80, 500)).astype(np.float32)\n",
    "# warmup\n",
    "y = pytorch_melgan(torch.Tensor(fake_mels))\n",
    "y = pytorch_melgan(torch.Tensor(fake_mels))"
   ]
  },
  {
   "cell_type": "code",
   "execution_count": 12,
   "metadata": {},
   "outputs": [
    {
     "name": "stdout",
     "output_type": "stream",
     "text": [
      "CPU times: user 20.4 s, sys: 2.17 s, total: 22.6 s\n",
      "Wall time: 3.91 s\n"
     ]
    }
   ],
   "source": [
    "%%time\n",
    "y = pytorch_melgan(torch.Tensor(fake_mels))"
   ]
  },
  {
   "cell_type": "code",
   "execution_count": null,
   "metadata": {},
   "outputs": [],
   "source": []
  },
  {
   "cell_type": "code",
   "execution_count": 13,
   "metadata": {},
   "outputs": [
    {
     "name": "stdout",
     "output_type": "stream",
     "text": [
      "CPU times: user 7.49 s, sys: 951 ms, total: 8.44 s\n",
      "Wall time: 1.95 s\n"
     ]
    }
   ],
   "source": [
    "%%time\n",
    "tf_melgan.set_mels(np.random.sample((4, 500, 80)).astype(np.float32))\n",
    "y = tf_melgan.run_inference()"
   ]
  },
  {
   "cell_type": "code",
   "execution_count": null,
   "metadata": {},
   "outputs": [],
   "source": []
  }
 ],
 "metadata": {
  "kernelspec": {
   "display_name": "Python 3",
   "language": "python",
   "name": "python3"
  },
  "language_info": {
   "codemirror_mode": {
    "name": "ipython",
    "version": 3
   },
   "file_extension": ".py",
   "mimetype": "text/x-python",
   "name": "python",
   "nbconvert_exporter": "python",
   "pygments_lexer": "ipython3",
   "version": "3.7.4"
  }
 },
 "nbformat": 4,
 "nbformat_minor": 2
}
